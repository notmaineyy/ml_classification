{
  "nbformat": 4,
  "nbformat_minor": 0,
  "metadata": {
    "colab": {
      "provenance": [],
      "collapsed_sections": [
        "DrnyJ6GkYWHv",
        "imXAIJC-pHlh",
        "Xyd2Lo8IClRB"
      ]
    },
    "kernelspec": {
      "name": "python3",
      "display_name": "Python 3"
    },
    "language_info": {
      "name": "python"
    }
  },
  "cells": [
    {
      "cell_type": "markdown",
      "source": [
        "# **Instructions**\n",
        "1. Data Splitting (only on SWIR)\n",
        "*   15% to test set (always remains the same, in 1 folder)\n",
        "*   Remaining 85% to training and validation sets (in 1 folder)\n",
        "\n",
        "Input folder structure (folder *dataset_20200803*):\n",
        "\n",
        "    ├───ccd\n",
        "    ├───flir\n",
        "    └───swir\n",
        "        ├───Barge\n",
        "        ├───BulkCarrier\n",
        "        ├───ChemicalTanker\n",
        "        ├───ContainerShip\n",
        "        ├───Cruise\n",
        "        ├───Dredger\n",
        "        ├───Ferry\n",
        "        ├───GeneralCargoShip\n",
        "        ├───HarbourLaunch-PilotVessel\n",
        "        ├───HeavyLoad\n",
        "        ├───LNG-LPG\n",
        "        ├───RORO\n",
        "        ├───Sampan\n",
        "        ├───SupplyVessel\n",
        "        ├───Tanker-Bunker\n",
        "        ├───Trawler-FishingVessel\n",
        "        ├───Tugboat\n",
        "        └───Yacht"
      ],
      "metadata": {
        "id": "9OzGrfHNZ4WL"
      }
    },
    {
      "cell_type": "markdown",
      "source": [
        "# Data Splitting (step 1)"
      ],
      "metadata": {
        "id": "Xyd2Lo8IClRB"
      }
    },
    {
      "cell_type": "markdown",
      "source": [
        "Took 15% of the original data to be used as test data, kept in\n",
        "\n",
        "```\n",
        "testing_dir\n",
        "```\n",
        "Remaining 85% of code will be used for training and validation, kept in\n",
        "\n",
        "```\n",
        "other_data_dir\n",
        "```"
      ],
      "metadata": {
        "id": "6Zc9gmHyofbI"
      }
    },
    {
      "cell_type": "code",
      "source": [
        "import os\n",
        "import random\n",
        "import shutil\n",
        "\n",
        "data_dir = '/content/drive/MyDrive/2023_internship/dataset_20200803/swir/'  # Path to the folder containing class subfolders\n",
        "testing_dir = '/content/drive/MyDrive/2023_internship/dataset_20200803/testing_flir2'  # Path to the folder where testing data will be saved\n",
        "other_data_dir = '/content/drive/MyDrive/2023_internship/dataset_20200803/trng_vali_swir2'  # Path to the folder where remaining data will be saved\n",
        "\n",
        "# Create testing and other data directories if they don't exist\n",
        "os.makedirs(testing_dir, exist_ok=True)\n",
        "os.makedirs(other_data_dir, exist_ok=True)\n",
        "\n",
        "# Define the percentage of data to use for testing\n",
        "testing_percentage = 0.15\n",
        "\n",
        "# Iterate through each class folder\n",
        "for class_name in os.listdir(data_dir):\n",
        "    class_folder = os.path.join(data_dir, class_name)\n",
        "\n",
        "    if os.path.isdir(class_folder):\n",
        "        # List all files in the class folder\n",
        "        class_files = os.listdir(class_folder)\n",
        "\n",
        "        # Calculate the number of testing images\n",
        "        num_testing = int(len(class_files) * testing_percentage)\n",
        "\n",
        "        # Randomly select testing images\n",
        "        testing_files = random.sample(class_files, num_testing)\n",
        "        for testing_file in testing_files:\n",
        "            src_path = os.path.join(class_folder, testing_file)\n",
        "            dest_path = os.path.join(testing_dir, class_name, testing_file)\n",
        "            os.makedirs(os.path.dirname(dest_path), exist_ok=True)\n",
        "            shutil.copy(src_path, dest_path)\n",
        "\n",
        "        # Move other images to the other data directory\n",
        "        for other_file in class_files:\n",
        "            if other_file not in testing_files:\n",
        "                src_path = os.path.join(class_folder, other_file)\n",
        "                dest_path = os.path.join(other_data_dir, class_name, other_file)\n",
        "                os.makedirs(os.path.dirname(dest_path), exist_ok=True)\n",
        "                shutil.copy(src_path, dest_path)\n",
        "\n",
        "print(\"Data splitting completed.\")\n"
      ],
      "metadata": {
        "id": "Pi3igNs22OCp",
        "colab": {
          "base_uri": "https://localhost:8080/"
        },
        "outputId": "00bdc6fa-e1b5-40be-e0dd-89d6b8ccdcc9"
      },
      "execution_count": null,
      "outputs": [
        {
          "output_type": "stream",
          "name": "stdout",
          "text": [
            "Data splitting completed.\n"
          ]
        }
      ]
    },
    {
      "cell_type": "markdown",
      "source": [
        "# Data Augmentation (step 2)"
      ],
      "metadata": {
        "id": "AYcVxc3ApVFd"
      }
    },
    {
      "cell_type": "markdown",
      "source": [
        "Using the remaining 85% data after step 1, data augmentation is done.\n",
        "\n",
        "Different augmentation methods explored:\n",
        "\n",
        "\n",
        "1.   Flip\n",
        "2.   Contrast\n",
        "3.   Brightening\n",
        "4.   Sharpening\n",
        "5.   Flipping and contrasting\n",
        "6.   Contrasting and sharpening\n",
        "7.   Flipping and sharpening\n",
        "8.   Contrasting, sharpening and flipping\n",
        "\n"
      ],
      "metadata": {
        "id": "D3JIx2Lro6Ti"
      }
    },
    {
      "cell_type": "markdown",
      "source": [
        "## Method 1: Flipping"
      ],
      "metadata": {
        "id": "g252n3bppVz_"
      }
    },
    {
      "cell_type": "markdown",
      "source": [
        "Code saves **original and flipped images** in a new folder *output_folder*."
      ],
      "metadata": {
        "id": "z0tRqXZ_eImo"
      }
    },
    {
      "cell_type": "code",
      "source": [
        "import os\n",
        "from PIL import Image\n",
        "from PIL import ImageEnhance\n",
        "import random\n",
        "import string\n",
        "import time\n",
        "\n",
        "def process_folder(folder_path):\n",
        "    items = os.listdir(folder_path)\n",
        "\n",
        "    for item in items:\n",
        "        item_path = os.path.join(folder_path, item)\n",
        "\n",
        "        if item_path != '/content/drive/MyDrive/2023_internship/dataset_20200803/trng_vali_swir2/withFlipped': # to prevent going into new folder created\n",
        "            if os.path.isdir(item_path):\n",
        "                process_folder(item_path)\n",
        "            else:\n",
        "                # If the item is a file, perform specific actions here\n",
        "                # Assuming it's an image file, you can check for image extensions like '.jpg', '.png', etc.\n",
        "                if item.lower().endswith(('.jpg', '.jpeg', '.png', '.gif', '.bmp')):\n",
        "                    file_name, file_extension = os.path.splitext(item)\n",
        "                    image = Image.open(item_path)\n",
        "                    lst = folder_path.split(\"/\")\n",
        "                    # group is the name of the class\n",
        "                    group = lst[-1]\n",
        "\n",
        "                    # flipping horizontally\n",
        "                    flipped_horizontal_img = image.transpose(Image.FLIP_LEFT_RIGHT)\n",
        "                    saved_path_horizontal = os.path.join('/content/drive/MyDrive/2023_internship/dataset_20200803/trng_vali_swir2/withFlipped', group, f\"{file_name}_flipH{file_extension}\")\n",
        "                    horizon_folder = os.path.join('/content/drive/MyDrive/2023_internship/dataset_20200803/trng_vali_swir2/withFlipped', group)\n",
        "\n",
        "                    # creates horizon_folder if does not exist\n",
        "                    if not os.path.exists(horizon_folder):\n",
        "                      os.makedirs(horizon_folder)\n",
        "\n",
        "                    # saves flipped image\n",
        "                    flipped_horizontal_img.save(saved_path_horizontal)\n",
        "\n",
        "                    saved_path_original = os.path.join('/content/drive/MyDrive/2023_internship/dataset_20200803/trng_vali_swir2/withFlipped', group, f\"{file_name}_orig{file_extension}\")\n",
        "                    image.save(saved_path_original) # saves original image\n",
        "\n",
        "\n",
        "# Replace 'your_folder_path' with the path to the folder you want to traverse\n",
        "your_folder_path = '/content/drive/MyDrive/2023_internship/dataset_20200803/trng_vali_swir2'\n",
        "output_folder = '/content/drive/MyDrive/2023_internship/dataset_20200803/trng_vali_swir2/withFlipped'\n",
        "if not os.path.exists(output_folder):\n",
        "    os.makedirs(output_folder)\n",
        "\n",
        "process_folder(your_folder_path)"
      ],
      "metadata": {
        "id": "7Ds9hHa0AC5W"
      },
      "execution_count": null,
      "outputs": []
    },
    {
      "cell_type": "markdown",
      "source": [
        "Code saves **ONLY** flipped images in a new folder *output_folder*."
      ],
      "metadata": {
        "id": "008svI-ZpmeS"
      }
    },
    {
      "cell_type": "code",
      "source": [
        "import os\n",
        "from PIL import Image\n",
        "from PIL import ImageEnhance\n",
        "import random\n",
        "import string\n",
        "import time\n",
        "\n",
        "def process_folder(folder_path):\n",
        "    items = os.listdir(folder_path)\n",
        "\n",
        "    for item in items:\n",
        "        item_path = os.path.join(folder_path, item)\n",
        "        #print(item_path)\n",
        "\n",
        "        if os.path.isdir(item_path):\n",
        "            process_folder(item_path)\n",
        "        else:\n",
        "            # If the item is a file, perform specific actions here\n",
        "            # Assuming it's an image file, you can check for image extensions like '.jpg', '.png', etc.\n",
        "            if item.lower().endswith(('.jpg', '.jpeg', '.png', '.gif', '.bmp')):\n",
        "                file_name, file_extension = os.path.splitext(item)\n",
        "                image = Image.open(item_path)\n",
        "                lst = folder_path.split(\"/\")\n",
        "                group = lst[-1]\n",
        "                # flipping horizontally\n",
        "                flipped_horizontal_img = image.transpose(Image.FLIP_LEFT_RIGHT)\n",
        "                saved_path_horizontal = os.path.join('/content/drive/MyDrive/2023_internship/dataset_20200803/onlyAugmentedFlir/flipped', group, f\"{file_name}_flipH{file_extension}\")\n",
        "                horizon_folder = os.path.join('/content/drive/MyDrive/2023_internship/dataset_20200803/onlyAugmentedFlir/flipped', group)\n",
        "                #print(saved_path_horizontal)\n",
        "                if not os.path.exists(horizon_folder):\n",
        "                  os.makedirs(horizon_folder)\n",
        "                flipped_horizontal_img.save(saved_path_horizontal)\n",
        "\n",
        "\n",
        "# Replace 'your_folder_path' with the path to the folder you want to traverse\n",
        "your_folder_path = '/content/drive/MyDrive/2023_internship/dataset_20200803/trng_vali_flir2'\n",
        "output_folder = '/content/drive/MyDrive/2023_internship/dataset_20200803/onlyAugmentedFlir/flipped'\n",
        "if not os.path.exists(output_folder):\n",
        "    os.makedirs(output_folder)\n",
        "\n",
        "\n",
        "process_folder(your_folder_path)"
      ],
      "metadata": {
        "id": "NkxyGuKoJP_A"
      },
      "execution_count": null,
      "outputs": []
    },
    {
      "cell_type": "markdown",
      "source": [
        "## Method 2: Contrasting"
      ],
      "metadata": {
        "id": "Uodajlz_eSWA"
      }
    },
    {
      "cell_type": "markdown",
      "source": [
        "Code saves **original and contrasted images** in a new folder *output_folder*."
      ],
      "metadata": {
        "id": "Oj8ogIRDeakR"
      }
    },
    {
      "cell_type": "code",
      "source": [
        "import os\n",
        "from PIL import Image\n",
        "from PIL import ImageEnhance\n",
        "import random\n",
        "import string\n",
        "import time\n",
        "\n",
        "def process_folder(folder_path):\n",
        "    items = os.listdir(folder_path)\n",
        "\n",
        "    for item in items:\n",
        "        item_path = os.path.join(folder_path, item)\n",
        "\n",
        "        if item_path != '/content/drive/MyDrive/2023_internship/dataset_20200803/trng_vali_swir2/withContrasted': # to prevent going into new folder created\n",
        "            if os.path.isdir(item_path):\n",
        "                process_folder(item_path)\n",
        "            else:\n",
        "                # If the item is a file, perform specific actions here\n",
        "                # Assuming it's an image file, you can check for image extensions like '.jpg', '.png', etc.\n",
        "                if item.lower().endswith(('.jpg', '.jpeg', '.png', '.gif', '.bmp')):\n",
        "                    file_name, file_extension = os.path.splitext(item)\n",
        "                    image = Image.open(item_path)\n",
        "                    lst = folder_path.split(\"/\")\n",
        "                    # group is the name of the class\n",
        "                    group = lst[-1]\n",
        "\n",
        "                    # contrasting image\n",
        "                    enhancer = ImageEnhance.Contrast(image)\n",
        "                    contrasted_img = enhancer.enhance(1.3) # can play around with the contrasting factor\n",
        "                    saved_path_contrast = os.path.join('/content/drive/MyDrive/2023_internship/dataset_20200803/trng_vali_swir2/withContrasted', group, f\"{file_name}_contrast{file_extension}\")\n",
        "                    contrast_folder = os.path.join('/content/drive/MyDrive/2023_internship/dataset_20200803/trng_vali_swir2/withContrasted', group)\n",
        "\n",
        "                    if not os.path.exists(contrast_folder):\n",
        "                      os.makedirs(contrast_folder)\n",
        "                    contrasted_img.save(saved_path_contrast)\n",
        "\n",
        "                    saved_path_original = os.path.join('/content/drive/MyDrive/2023_internship/dataset_20200803/trng_vali_swir2/withContrasted', group, f\"{file_name}_orig{file_extension}\")\n",
        "                    image.save(saved_path_original) # saves original image\n",
        "\n",
        "\n",
        "# Replace 'your_folder_path' with the path to the folder you want to traverse\n",
        "your_folder_path = '/content/drive/MyDrive/2023_internship/dataset_20200803/trng_vali_swir2'\n",
        "output_folder = '/content/drive/MyDrive/2023_internship/dataset_20200803/trng_vali_swir2/withContrasted'\n",
        "if not os.path.exists(output_folder):\n",
        "    os.makedirs(output_folder)\n",
        "\n",
        "process_folder(your_folder_path)"
      ],
      "metadata": {
        "id": "CmjysvnTefJ-"
      },
      "execution_count": null,
      "outputs": []
    },
    {
      "cell_type": "markdown",
      "source": [
        "Code saves **ONLY** contrasted images in a new folder *output_folder*."
      ],
      "metadata": {
        "id": "UQNZz1hspyUa"
      }
    },
    {
      "cell_type": "code",
      "source": [
        "import os\n",
        "from PIL import Image\n",
        "from PIL import ImageEnhance\n",
        "import random\n",
        "import string\n",
        "import time\n",
        "\n",
        "def process_folder(folder_path):\n",
        "    items = os.listdir(folder_path)\n",
        "\n",
        "    for item in items:\n",
        "        item_path = os.path.join(folder_path, item)\n",
        "        #print(item_path)\n",
        "\n",
        "        if os.path.isdir(item_path):\n",
        "            process_folder(item_path)\n",
        "        else:\n",
        "            # If the item is a file, perform specific actions here\n",
        "            # Assuming it's an image file, you can check for image extensions like '.jpg', '.png', etc.\n",
        "            if item.lower().endswith(('.jpg', '.jpeg', '.png', '.gif', '.bmp')):\n",
        "                file_name, file_extension = os.path.splitext(item)\n",
        "                image = Image.open(item_path)\n",
        "                lst = folder_path.split(\"/\")\n",
        "                group = lst[-1]\n",
        "                # flipping horizontally\n",
        "\n",
        "                enhancer = ImageEnhance.Contrast(image)\n",
        "                contrasted_img = enhancer.enhance(1.3) # can play around with the contrasting factor\n",
        "                saved_path_contrast = os.path.join('/content/drive/MyDrive/2023_internship/dataset_20200803/onlyAugmented/contrasted133_with_AIgen_test2_final', group, f\"{file_name}_contrast{file_extension}\")\n",
        "                horizon_folder = os.path.join('/content/drive/MyDrive/2023_internship/dataset_20200803/onlyAugmented/contrasted133_with_AIgen_test2_final', group)\n",
        "                #print(saved_path_horizontal)\n",
        "                if not os.path.exists(horizon_folder):\n",
        "                  os.makedirs(horizon_folder)\n",
        "                contrasted_img.save(saved_path_contrast)\n",
        "\n",
        "\n",
        "# Replace 'your_folder_path' with the path to the folder you want to traverse\n",
        "your_folder_path = '/content/drive/MyDrive/2023_internship/dataset_20200803/trng_vali_swir2'\n",
        "output_folder = '/content/drive/MyDrive/2023_internship/dataset_20200803/onlyAugmented/contrasted133_with_AIgen_test2_final'\n",
        "if not os.path.exists(output_folder):\n",
        "    os.makedirs(output_folder)\n",
        "\n",
        "\n",
        "process_folder(your_folder_path)"
      ],
      "metadata": {
        "id": "aOu3U-EP1mZs"
      },
      "execution_count": null,
      "outputs": []
    },
    {
      "cell_type": "markdown",
      "source": [
        "## Method 3: Brightening"
      ],
      "metadata": {
        "id": "lRJp4iw1fIY4"
      }
    },
    {
      "cell_type": "markdown",
      "source": [
        "Code saves **original and brightened images** in a new folder *output_folder*.\n",
        "\n",
        "SN:\n",
        "This method was not great, and F1 score did not improve by a lot, so decided not to use this method."
      ],
      "metadata": {
        "id": "q9GalrWppssw"
      }
    },
    {
      "cell_type": "code",
      "source": [
        "import os\n",
        "from PIL import Image\n",
        "from PIL import ImageEnhance\n",
        "import random\n",
        "import string\n",
        "import time\n",
        "\n",
        "def process_folder(folder_path):\n",
        "    items = os.listdir(folder_path)\n",
        "\n",
        "    for item in items:\n",
        "        item_path = os.path.join(folder_path, item)\n",
        "        #print(item_path)\n",
        "\n",
        "        if item_path != '/content/drive/MyDrive/2023_internship/dataset_20200803/trng_vali_flir2/withBrightened' and item_path != '/content/drive/MyDrive/2023_internship/dataset_20200803/trng_vali_flir2/withFlipped':\n",
        "            if os.path.isdir(item_path):\n",
        "                process_folder(item_path)\n",
        "            else:\n",
        "                # If the item is a file, perform specific actions here\n",
        "                # Assuming it's an image file, you can check for image extensions like '.jpg', '.png', etc.\n",
        "                if item.lower().endswith(('.jpg', '.jpeg', '.png', '.gif', '.bmp')):\n",
        "                    file_name, file_extension = os.path.splitext(item)\n",
        "                    image = Image.open(item_path)\n",
        "                    lst = folder_path.split(\"/\")\n",
        "                    group = lst[-1]\n",
        "                    # flipping horizontally\n",
        "\n",
        "                    enhancer = ImageEnhance.Brightness(image)\n",
        "                    brightened_img = enhancer.enhance(1.2) # can play around with brightening factor\n",
        "                    saved_path_brighten = os.path.join('/content/drive/MyDrive/2023_internship/dataset_20200803/trng_vali_flir2/withBrightened', group, f\"{file_name}_bright{file_extension}\")\n",
        "                    horizon_folder = os.path.join('/content/drive/MyDrive/2023_internship/dataset_20200803/trng_vali_flir2/withBrightened', group)\n",
        "                    #print(saved_path_horizontal)\n",
        "                    if not os.path.exists(horizon_folder):\n",
        "                      os.makedirs(horizon_folder)\n",
        "                    brightened_img.save(saved_path_brighten)\n",
        "                    saved_path_original = os.path.join('/content/drive/MyDrive/2023_internship/dataset_20200803/trng_vali_flir2/withBrightened', group, f\"{file_name}_orig{file_extension}\")\n",
        "                    #print(saved_path_original)\n",
        "                    image.save(saved_path_original)\n",
        "\n",
        "\n",
        "# Replace 'your_folder_path' with the path to the folder you want to traverse\n",
        "your_folder_path = '/content/drive/MyDrive/2023_internship/dataset_20200803/trng_vali_flir2'\n",
        "output_folder = '/content/drive/MyDrive/2023_internship/dataset_20200803/trng_vali_flir2/withBrightened'\n",
        "if not os.path.exists(output_folder):\n",
        "    os.makedirs(output_folder)\n",
        "\n",
        "\n",
        "process_folder(your_folder_path)"
      ],
      "metadata": {
        "id": "srUIaRNwJVok"
      },
      "execution_count": null,
      "outputs": []
    },
    {
      "cell_type": "markdown",
      "source": [
        "## Method 4: Sharpening"
      ],
      "metadata": {
        "id": "x52rmyFefgjR"
      }
    },
    {
      "cell_type": "markdown",
      "source": [
        "Code saves **original and sharpened images** in a new folder *output_folder*."
      ],
      "metadata": {
        "id": "vZH-6U4HqFVa"
      }
    },
    {
      "cell_type": "code",
      "source": [
        "import os\n",
        "from PIL import Image, ImageFilter\n",
        "from PIL import ImageEnhance\n",
        "import random\n",
        "import string\n",
        "import time\n",
        "\n",
        "def process_folder(folder_path):\n",
        "    items = os.listdir(folder_path)\n",
        "\n",
        "    for item in items:\n",
        "        item_path = os.path.join(folder_path, item)\n",
        "        #print(item_path)\n",
        "\n",
        "        if item_path != '/content/drive/MyDrive/2023_internship/dataset_20200803/trng_vali_flir2/withBrightened' and item_path != '/content/drive/MyDrive/2023_internship/dataset_20200803/trng_vali_flir2/withFlipped' and item_path != '/content/drive/MyDrive/2023_internship/dataset_20200803/trng_vali_flir2/withSharpened':\n",
        "            if os.path.isdir(item_path):\n",
        "                process_folder(item_path)\n",
        "            else:\n",
        "                # If the item is a file, perform specific actions here\n",
        "                # Assuming it's an image file, you can check for image extensions like '.jpg', '.png', etc.\n",
        "                if item.lower().endswith(('.jpg', '.jpeg', '.png', '.gif', '.bmp')):\n",
        "                    file_name, file_extension = os.path.splitext(item)\n",
        "                    image = Image.open(item_path)\n",
        "                    lst = folder_path.split(\"/\")\n",
        "                    group = lst[-1]\n",
        "\n",
        "                    # sharpening\n",
        "                    sharpened_image = image.filter(ImageFilter.SHARPEN)\n",
        "                    saved_path_sharpen = os.path.join('/content/drive/MyDrive/2023_internship/dataset_20200803/trng_vali_flir2/withSharpened', group, f\"{file_name}_sharpen{file_extension}\")\n",
        "                    sharpen_folder = os.path.join('/content/drive/MyDrive/2023_internship/dataset_20200803/trng_vali_flir2/withSharpened', group)\n",
        "                    if not os.path.exists(sharpen_folder):\n",
        "                      os.makedirs(sharpen_folder)\n",
        "                    sharpened_image.save(saved_path_sharpen)\n",
        "\n",
        "                    saved_path_original = os.path.join('/content/drive/MyDrive/2023_internship/dataset_20200803/trng_vali_flir2/withSharpened', group, f\"{file_name}_orig{file_extension}\")\n",
        "                    image.save(saved_path_original)\n",
        "\n",
        "\n",
        "# Replace 'your_folder_path' with the path to the folder you want to traverse\n",
        "your_folder_path = '/content/drive/MyDrive/2023_internship/dataset_20200803/trng_vali_flir2'\n",
        "output_folder = '/content/drive/MyDrive/2023_internship/dataset_20200803/trng_vali_flir2/withSharpened'\n",
        "if not os.path.exists(output_folder):\n",
        "    os.makedirs(output_folder)\n",
        "\n",
        "\n",
        "process_folder(your_folder_path)"
      ],
      "metadata": {
        "id": "e9tcpjok-wNA"
      },
      "execution_count": null,
      "outputs": []
    },
    {
      "cell_type": "markdown",
      "source": [
        "Code saves **ONLY** sharpened images in a new folder *output_folder*."
      ],
      "metadata": {
        "id": "lkg25MQVqKIy"
      }
    },
    {
      "cell_type": "code",
      "source": [
        "import os\n",
        "from PIL import Image, ImageFilter\n",
        "from PIL import ImageEnhance\n",
        "import random\n",
        "import string\n",
        "import time\n",
        "\n",
        "def process_folder(folder_path):\n",
        "    items = os.listdir(folder_path)\n",
        "\n",
        "    for item in items:\n",
        "        item_path = os.path.join(folder_path, item)\n",
        "        #print(item_path)\n",
        "        if os.path.isdir(item_path):\n",
        "            process_folder(item_path)\n",
        "        else:\n",
        "            # If the item is a file, perform specific actions here\n",
        "            # Assuming it's an image file, you can check for image extensions like '.jpg', '.png', etc.\n",
        "            if item.lower().endswith(('.jpg', '.jpeg', '.png', '.gif', '.bmp')):\n",
        "                file_name, file_extension = os.path.splitext(item)\n",
        "                image = Image.open(item_path)\n",
        "                lst = folder_path.split(\"/\")\n",
        "                group = lst[-1]\n",
        "\n",
        "                # sharpening image\n",
        "                sharpened_image = image.filter(ImageFilter.SHARPEN)\n",
        "                saved_path_sharpen = os.path.join('/content/drive/MyDrive/2023_internship/dataset_20200803/onlyAugmentedFlir/sharpened', group, f\"{file_name}_sharpen{file_extension}\")\n",
        "                sharpen_folder = os.path.join('/content/drive/MyDrive/2023_internship/dataset_20200803/onlyAugmentedFlir/sharpened', group)\n",
        "                #print(saved_path_horizontal)\n",
        "                if not os.path.exists(sharpen_folder):\n",
        "                  os.makedirs(sharpen_folder)\n",
        "                sharpened_image.save(saved_path_sharpen)\n",
        "\n",
        "# Replace 'your_folder_path' with the path to the folder you want to traverse\n",
        "your_folder_path = '/content/drive/MyDrive/2023_internship/dataset_20200803/trng_vali_flir2'\n",
        "output_folder = '/content/drive/MyDrive/2023_internship/dataset_20200803/onlyAugmentedFlir/sharpened'\n",
        "if not os.path.exists(output_folder):\n",
        "    os.makedirs(output_folder)\n",
        "\n",
        "\n",
        "process_folder(your_folder_path)"
      ],
      "metadata": {
        "id": "cyzxoKU2KF1r"
      },
      "execution_count": null,
      "outputs": []
    },
    {
      "cell_type": "markdown",
      "source": [
        "## Method 5: Contrast + Flip"
      ],
      "metadata": {
        "id": "tnaiPlzsf7lp"
      }
    },
    {
      "cell_type": "markdown",
      "source": [
        "*your_folder_path* is the folder with **original + contrasted images**.\n",
        "\n",
        "This snippet of code will **flip** the images found in *your_folder_path*.\n",
        "\n",
        "*output_folder* will have images of the following permutations:\n",
        "\n",
        "\n",
        "*   Original\n",
        "*   Contrasted\n",
        "*   Flipped\n",
        "*   Contrasted and flipped"
      ],
      "metadata": {
        "id": "1QIaaIPLqXaL"
      }
    },
    {
      "cell_type": "code",
      "source": [
        "import os\n",
        "from PIL import Image\n",
        "from PIL import ImageEnhance\n",
        "import random\n",
        "import string\n",
        "import time\n",
        "\n",
        "def process_folder(folder_path):\n",
        "    items = os.listdir(folder_path)\n",
        "\n",
        "    for item in items:\n",
        "        item_path = os.path.join(folder_path, item)\n",
        "        #print(item_path)\n",
        "\n",
        "        if os.path.isdir(item_path):\n",
        "            process_folder(item_path)\n",
        "        else:\n",
        "            # If the item is a file, perform specific actions here\n",
        "            # Assuming it's an image file, you can check for image extensions like '.jpg', '.png', etc.\n",
        "            if item.lower().endswith(('.jpg', '.jpeg', '.png', '.gif', '.bmp')):\n",
        "                file_name, file_extension = os.path.splitext(item)\n",
        "                image = Image.open(item_path)\n",
        "                lst = folder_path.split(\"/\")\n",
        "                group = lst[-1]\n",
        "\n",
        "                # flipping horizontally\n",
        "                flipped_horizontal_img = image.transpose(Image.FLIP_LEFT_RIGHT)\n",
        "                saved_path_horizontal = os.path.join('/content/drive/MyDrive/2023_internship/dataset_20200803/flir_augmentedData/withContrastedFlipped', group, f\"{file_name}_flipH{file_extension}\")\n",
        "                horizon_folder = os.path.join('/content/drive/MyDrive/2023_internship/dataset_20200803/flir_augmentedData/withContrastedFlipped', group)\n",
        "                #print(saved_path_horizontal)\n",
        "                if not os.path.exists(horizon_folder):\n",
        "                  os.makedirs(horizon_folder)\n",
        "                flipped_horizontal_img.save(saved_path_horizontal)\n",
        "                saved_path_original = os.path.join('/content/drive/MyDrive/2023_internship/dataset_20200803/flir_augmentedData/withContrastedFlipped', group, f\"{file_name}_orig{file_extension}\")\n",
        "                #print(saved_path_original)\n",
        "                image.save(saved_path_original)\n",
        "\n",
        "\n",
        "# Replace 'your_folder_path' with the path to the folder you want to traverse\n",
        "# your_folder_path should be the folder with the original + contrasted images\n",
        "your_folder_path = '/content/drive/MyDrive/2023_internship/dataset_20200803/flir_augmentedData/withContrasted'\n",
        "output_folder = '/content/drive/MyDrive/2023_internship/dataset_20200803/flir_augmentedData/withContrastedFlipped'\n",
        "if not os.path.exists(output_folder):\n",
        "    os.makedirs(output_folder)\n",
        "\n",
        "\n",
        "process_folder(your_folder_path)"
      ],
      "metadata": {
        "id": "nR1GW1kAB1Nn"
      },
      "execution_count": null,
      "outputs": []
    },
    {
      "cell_type": "markdown",
      "source": [
        "## Method 6: Contrast + Sharpen"
      ],
      "metadata": {
        "id": "TIS_u-cAgiWC"
      }
    },
    {
      "cell_type": "markdown",
      "source": [
        "*your_folder_path* is the folder with **original + contrasted images**.\n",
        "\n",
        "This snippet of code will **sharpen** the images found in *your_folder_path*.\n",
        "\n",
        "*output_folder* will have images of the following permutations:\n",
        "\n",
        "\n",
        "*   Original\n",
        "*   Contrasted\n",
        "*   Sharpened\n",
        "*   Contrasted and sharpened"
      ],
      "metadata": {
        "id": "pepHNU5Pq6bi"
      }
    },
    {
      "cell_type": "code",
      "source": [
        "import os\n",
        "from PIL import Image, ImageFilter\n",
        "from PIL import ImageEnhance\n",
        "import random\n",
        "import string\n",
        "import time\n",
        "\n",
        "def process_folder(folder_path):\n",
        "    items = os.listdir(folder_path)\n",
        "\n",
        "    for item in items:\n",
        "        item_path = os.path.join(folder_path, item)\n",
        "        #print(item_path)\n",
        "\n",
        "        if os.path.isdir(item_path):\n",
        "            process_folder(item_path)\n",
        "        else:\n",
        "            # If the item is a file, perform specific actions here\n",
        "            # Assuming it's an image file, you can check for image extensions like '.jpg', '.png', etc.\n",
        "            if item.lower().endswith(('.jpg', '.jpeg', '.png', '.gif', '.bmp')):\n",
        "                file_name, file_extension = os.path.splitext(item)\n",
        "                image = Image.open(item_path)\n",
        "                lst = folder_path.split(\"/\")\n",
        "                group = lst[-1]\n",
        "\n",
        "                # sharpening\n",
        "                sharpened_image = image.filter(ImageFilter.SHARPEN)\n",
        "                saved_path_sharpen = os.path.join('/content/drive/MyDrive/2023_internship/dataset_20200803/flir_augmentedData/withContrastedSharpened', group, f\"{file_name}_sharpen{file_extension}\")\n",
        "                sharpen_folder = os.path.join('/content/drive/MyDrive/2023_internship/dataset_20200803/flir_augmentedData/withContrastedSharpened', group)\n",
        "\n",
        "                if not os.path.exists(sharpen_folder):\n",
        "                  os.makedirs(sharpen_folder)\n",
        "                sharpened_image.save(saved_path_sharpen)\n",
        "                saved_path_original = os.path.join('/content/drive/MyDrive/2023_internship/dataset_20200803/flir_augmentedData/withContrastedSharpened', group, f\"{file_name}_orig{file_extension}\")\n",
        "\n",
        "                image.save(saved_path_original)\n",
        "\n",
        "\n",
        "# Replace 'your_folder_path' with the path to the folder you want to traverse\n",
        "# your_folder_path should be the folder with original + contrasted images\n",
        "your_folder_path = '/content/drive/MyDrive/2023_internship/dataset_20200803/flir_augmentedData/withContrasted'\n",
        "output_folder = '/content/drive/MyDrive/2023_internship/dataset_20200803/flir_augmentedData/withContrastedSharpened'\n",
        "if not os.path.exists(output_folder):\n",
        "    os.makedirs(output_folder)\n",
        "\n",
        "\n",
        "process_folder(your_folder_path)"
      ],
      "metadata": {
        "id": "nJ2X47WdtVVr"
      },
      "execution_count": null,
      "outputs": []
    },
    {
      "cell_type": "markdown",
      "source": [
        "## Method 7: Flip + Sharpen"
      ],
      "metadata": {
        "id": "fSt7FyaKg8Hl"
      }
    },
    {
      "cell_type": "markdown",
      "source": [
        "*your_folder_path* is the folder with **original + flipped images**.\n",
        "\n",
        "This snippet of code will **sharpen** the images found in *your_folder_path*.\n",
        "\n",
        "*output_folder* will have images of the following permutations:\n",
        "\n",
        "\n",
        "*   Original\n",
        "*   Sharpened\n",
        "*   Flipped\n",
        "*   Sharpened and flipped"
      ],
      "metadata": {
        "id": "iQlFL0sRrDaO"
      }
    },
    {
      "cell_type": "code",
      "source": [
        "import os\n",
        "from PIL import Image, ImageFilter\n",
        "from PIL import ImageEnhance\n",
        "import random\n",
        "import string\n",
        "import time\n",
        "\n",
        "def process_folder(folder_path):\n",
        "    items = os.listdir(folder_path)\n",
        "\n",
        "    for item in items:\n",
        "        item_path = os.path.join(folder_path, item)\n",
        "        #print(item_path)\n",
        "\n",
        "        if os.path.isdir(item_path):\n",
        "            process_folder(item_path)\n",
        "        else:\n",
        "            # If the item is a file, perform specific actions here\n",
        "            # Assuming it's an image file, you can check for image extensions like '.jpg', '.png', etc.\n",
        "            if item.lower().endswith(('.jpg', '.jpeg', '.png', '.gif', '.bmp')):\n",
        "                file_name, file_extension = os.path.splitext(item)\n",
        "                image = Image.open(item_path)\n",
        "                lst = folder_path.split(\"/\")\n",
        "                group = lst[-1]\n",
        "                # sharpening\n",
        "                sharpened_image = image.filter(ImageFilter.SHARPEN)\n",
        "                saved_path_sharpen = os.path.join('/content/drive/MyDrive/2023_internship/dataset_20200803/flir_augmentedData/withFlippedSharpened', group, f\"{file_name}_sharpen{file_extension}\")\n",
        "                sharpen_folder = os.path.join('/content/drive/MyDrive/2023_internship/dataset_20200803/flir_augmentedData/withFlippedSharpened', group)\n",
        "\n",
        "                if not os.path.exists(sharpen_folder):\n",
        "                  os.makedirs(sharpen_folder)\n",
        "                sharpened_image.save(saved_path_sharpen)\n",
        "                saved_path_original = os.path.join('/content/drive/MyDrive/2023_internship/dataset_20200803/flir_augmentedData/withFlippedSharpened', group, f\"{file_name}_orig{file_extension}\")\n",
        "\n",
        "                image.save(saved_path_original)\n",
        "\n",
        "\n",
        "# Replace 'your_folder_path' with the path to the folder you want to traverse\n",
        "# your_folder_path is the folder with original + flipped images\n",
        "your_folder_path = '/content/drive/MyDrive/2023_internship/dataset_20200803/flir_augmentedData/withFlipped'\n",
        "output_folder = '/content/drive/MyDrive/2023_internship/dataset_20200803/flir_augmentedData/withFlippedSharpened'\n",
        "if not os.path.exists(output_folder):\n",
        "    os.makedirs(output_folder)\n",
        "\n",
        "\n",
        "process_folder(your_folder_path)"
      ],
      "metadata": {
        "id": "qErnqus30gth"
      },
      "execution_count": null,
      "outputs": []
    },
    {
      "cell_type": "markdown",
      "source": [
        "## Method 8: Contrast + Flip + Sharpen"
      ],
      "metadata": {
        "id": "fgr0CH3Phf36"
      }
    },
    {
      "cell_type": "markdown",
      "source": [
        "*your_folder_path* is the folder of images generated by method 7 (flip + sharpen).\n",
        "\n",
        "This snippet of code will **contrast** the images found in *your_folder_path*.\n",
        "\n",
        "*output_folder* will have images of the following permutations:\n",
        "\n",
        "*   Original\n",
        "*   Contrasted\n",
        "*   Flipped\n",
        "*   Sharpen\n",
        "*   Contrasted and sharpened\n",
        "*   Flipped and sharpened\n",
        "*   Contrasted and flipped\n",
        "*   Contrasted, flipped and sharpened"
      ],
      "metadata": {
        "id": "_pBlW8MorJaE"
      }
    },
    {
      "cell_type": "code",
      "source": [
        "import os\n",
        "from PIL import Image, ImageFilter\n",
        "from PIL import ImageEnhance\n",
        "import random\n",
        "import string\n",
        "import time\n",
        "\n",
        "def process_folder(folder_path):\n",
        "    items = os.listdir(folder_path)\n",
        "\n",
        "    for item in items:\n",
        "        item_path = os.path.join(folder_path, item)\n",
        "        #print(item_path)\n",
        "\n",
        "        if os.path.isdir(item_path):\n",
        "            process_folder(item_path)\n",
        "        else:\n",
        "            # If the item is a file, perform specific actions here\n",
        "            # Assuming it's an image file, you can check for image extensions like '.jpg', '.png', etc.\n",
        "            if item.lower().endswith(('.jpg', '.jpeg', '.png', '.gif', '.bmp')):\n",
        "                file_name, file_extension = os.path.splitext(item)\n",
        "                image = Image.open(item_path)\n",
        "                lst = folder_path.split(\"/\")\n",
        "                group = lst[-1]\n",
        "\n",
        "                # contrast images\n",
        "                enhancer = ImageEnhance.Contrast(image)\n",
        "                contrasted_img = enhancer.enhance(1.3)\n",
        "                saved_path_contrast = os.path.join('/content/drive/MyDrive/2023_internship/dataset_20200803/augmentedData/withFlippedSharpenedContrasted', group, f\"{file_name}_contrast{file_extension}\")\n",
        "                contrast_folder = os.path.join('/content/drive/MyDrive/2023_internship/dataset_20200803/augmentedData/withFlippedSharpenedContrasted', group)\n",
        "\n",
        "                if not os.path.exists(contrast_folder):\n",
        "                  os.makedirs(contrast_folder)\n",
        "                contrasted_img.save(saved_path_contrast)\n",
        "\n",
        "                saved_path_original = os.path.join('/content/drive/MyDrive/2023_internship/dataset_20200803/augmentedData/withFlippedSharpenedContrasted', group, f\"{file_name}_orig{file_extension}\")\n",
        "                image.save(saved_path_original)\n",
        "\n",
        "\n",
        "# Replace 'your_folder_path' with the path to the folder you want to traverse\n",
        "your_folder_path = '/content/drive/MyDrive/2023_internship/dataset_20200803/augmentedData/withFlippedSharpened'\n",
        "output_folder = '/content/drive/MyDrive/2023_internship/dataset_20200803/augmentedData/withFlippedSharpenedContrasted'\n",
        "if not os.path.exists(output_folder):\n",
        "    os.makedirs(output_folder)\n",
        "\n",
        "\n",
        "process_folder(your_folder_path)"
      ],
      "metadata": {
        "id": "mbl-Rv1NXA7Y"
      },
      "execution_count": null,
      "outputs": []
    },
    {
      "cell_type": "code",
      "source": [
        "test_dir = '/content/drive/MyDrive/2023_internship/dataset_20200803/testing_flir2'\n",
        "test_ds = tf.keras.utils.image_dataset_from_directory(\n",
        "    test_dir,\n",
        "    image_size=(img_height, img_width),\n",
        "    batch_size=batch_size)"
      ],
      "metadata": {
        "colab": {
          "base_uri": "https://localhost:8080/"
        },
        "id": "UaZY8KAeD0CW",
        "outputId": "719cbea0-6114-43e5-c345-6396d1f89bbc"
      },
      "execution_count": null,
      "outputs": [
        {
          "output_type": "stream",
          "name": "stdout",
          "text": [
            "Found 174 files belonging to 15 classes.\n"
          ]
        }
      ]
    },
    {
      "cell_type": "code",
      "source": [
        "import tensorflow as tf\n",
        "import numpy as np\n",
        "\n",
        "model = keras.models.load_model(\"/content/drive/MyDrive/flir_model_0.keras\")\n",
        "# Initialize lists to hold images and labels\n",
        "test_images = []\n",
        "test_labels = []\n",
        "\n",
        "# Iterate through the test_ds dataset\n",
        "for images, labels in test_ds:\n",
        "    # Iterate through the batch of images and labels\n",
        "    for img_array, label in zip(images, labels):\n",
        "        test_images.append(img_array.numpy())  # Convert tensor to numpy array\n",
        "        test_labels.append(label.numpy())\n",
        "\n",
        "# Convert lists to arrays\n",
        "test_images = np.array(test_images)\n",
        "test_labels = np.array(test_labels)"
      ],
      "metadata": {
        "id": "i3CxApO1DhOS"
      },
      "execution_count": null,
      "outputs": []
    }
  ]
}